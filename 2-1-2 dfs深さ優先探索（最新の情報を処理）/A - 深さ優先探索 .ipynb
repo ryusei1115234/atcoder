{
 "cells": [
  {
   "cell_type": "code",
   "execution_count": null,
   "metadata": {
    "code_folding": []
   },
   "outputs": [],
   "source": [
    "from collections import deque\n",
    "H, W = map(int, input().split())\n",
    "C = [input() for _ in range(H)]\n",
    "print\n",
    "for n1,c_w in enumerate(C):\n",
    "  for n2,c in enumerate(c_w):\n",
    "    if c ==\"s\":\n",
    "      s_h =n1\n",
    "      s_w =n2\n",
    "stack = deque([[s_h, s_w]])  # スタートの位置だけ入ったスタックを作成\n",
    "\n",
    "visited_list =[[0]*W for i in range(H) ]\n",
    "visited_list[s_h][s_w] =1\n",
    "\n"
   ]
  },
  {
   "cell_type": "code",
   "execution_count": null,
   "metadata": {},
   "outputs": [],
   "source": [
    "from collections import deque\n",
    "H,W =map(int,input().split())\n",
    "town =list(input() for i in range(H))\n",
    "for s,gyou in enumerate(town):\n",
    "    for t,retu in enumerate(gyou):\n",
    "        if town[s][t] ==\"s\":\n",
    "            s_h =s\n",
    "            s_w =t\n",
    "stack = deque([[s_h, s_w]])\n",
    "visit =[[0]*W for i in range(H)]\n",
    "visit[s_h][s_w] =1\n",
    "\n",
    "def dfs(town,visit,stack):\n",
    "    while len(stack)>0:\n",
    "        h,w =stack.pop()\n",
    "        if town[h][w] ==\"g\":\n",
    "            return \"Yes\"\n",
    "        else:\n",
    "            for j,k in ([1,0],[-1,0],[0,1],[0,-1]):\n",
    "                new_h =h+j\n",
    "                new_w =w+k\n",
    "                if new_h<0 or new_h>=H or new_w<0 or new_w>=W:\n",
    "                    continue\n",
    "                if town[new_h][new_w]!=\"#\" and visit[new_h][new_w]==0:\n",
    "                    visit[new_h][new_w] =1\n",
    "                    stack.append([new_h, new_w])\n",
    "    return \"No\"\n",
    "          \n",
    "       \n",
    "\n",
    "print(dfs(town,visit,stack))"
   ]
  },
  {
   "cell_type": "code",
   "execution_count": null,
   "metadata": {},
   "outputs": [],
   "source": [
    "def dfs(visited,stack):\n",
    "  point =stack.pop()\n",
    "  if color_count[color[point[1]-1]] ==0:\n",
    "    color_count[color[point[1]-1]] +=1\n",
    "    good_point.append(point)\n",
    "  pre =[point]+color_count\n",
    "  color_count_store =pre\n",
    "  return point ,color_count,good_point,color_count_store\n",
    "\n",
    "stack = deque([[route[0][0], route[0][1]]])\n",
    "\n",
    "start =route[0][0]\n",
    "for i in range(n-1):\n",
    "  stack = deque([[route[i][0], route[i][1]]])\n",
    "  if start !=route[i][0]:\n",
    "   "
   ]
  },
  {
   "cell_type": "code",
   "execution_count": null,
   "metadata": {},
   "outputs": [],
   "source": [
    "for i in range((max(color)+2)):\n",
    "  pre =color_count_p\n",
    "  color_count_array.append(pre)"
   ]
  }
 ],
 "metadata": {
  "kernelspec": {
   "display_name": "Python 3",
   "language": "python",
   "name": "python3"
  },
  "language_info": {
   "codemirror_mode": {
    "name": "ipython",
    "version": 3
   },
   "file_extension": ".py",
   "mimetype": "text/x-python",
   "name": "python",
   "nbconvert_exporter": "python",
   "pygments_lexer": "ipython3",
   "version": "3.8.8"
  },
  "varInspector": {
   "cols": {
    "lenName": 16,
    "lenType": 16,
    "lenVar": 40
   },
   "kernels_config": {
    "python": {
     "delete_cmd_postfix": "",
     "delete_cmd_prefix": "del ",
     "library": "var_list.py",
     "varRefreshCmd": "print(var_dic_list())"
    },
    "r": {
     "delete_cmd_postfix": ") ",
     "delete_cmd_prefix": "rm(",
     "library": "var_list.r",
     "varRefreshCmd": "cat(var_dic_list()) "
    }
   },
   "position": {
    "height": "144.492px",
    "left": "255.246px",
    "right": "20px",
    "top": "129px",
    "width": "350px"
   },
   "types_to_exclude": [
    "module",
    "function",
    "builtin_function_or_method",
    "instance",
    "_Feature"
   ],
   "window_display": false
  }
 },
 "nbformat": 4,
 "nbformat_minor": 4
}
