{
 "cells": [
  {
   "cell_type": "code",
   "execution_count": null,
   "metadata": {},
   "outputs": [],
   "source": [
    "from collections import deque\n",
    "island =[input() for i in range(10)]\n",
    "visit =[[0]*10 for i in range(10)]\n",
    "start_island =0\n",
    "for i,gyou in enumerate(island):\n",
    "  for t, retu in enumerate(gyou):\n",
    "    if island[i][t] ==\"o\":\n",
    "      start_island +=1\n",
    " \n",
    " \n",
    "def dfs(island,visit,stack):\n",
    "  while len(stack)>0:\n",
    "    h,w =stack.pop()\n",
    "    for j,k in ([1,0],[-1,0],[0,1],[0,-1]):\n",
    "      new_h =j+h\n",
    "      new_w =k+w\n",
    "      if  new_h<0 or  new_h>=10 or  new_w<0 or new_w>=10:\n",
    "        continue\n",
    "      elif  island[new_h][new_w] ==\"o\" and visit[new_h][new_w]==0:\n",
    "        visit[new_h][new_w]=1\n",
    "        stack.append([new_h,new_w])\n",
    "  total_island =0\n",
    "  for u in range(10):\n",
    "    total_island +=sum(visit[u])\n",
    "  return total_island\n",
    "flag =False\n",
    "for gyou in range(10):\n",
    "  for retu in range(10):\n",
    "    visit =[[0]*10 for i in range(10)]\n",
    "    stack =deque([[gyou,retu]])\n",
    "    if island[gyou][retu] !=\"o\" and dfs(island,visit,stack)==start_island:\n",
    "      print(\"YES\")\n",
    "      flag =True\n",
    "      break\n",
    "     \n",
    "  if flag ==True:\n",
    "    break\n",
    "if flag ==False:\n",
    "  print(\"NO\")"
   ]
  },
  {
   "cell_type": "code",
   "execution_count": null,
   "metadata": {},
   "outputs": [],
   "source": [
    "\n",
    "#①（０，０）から埋めた場合に一つの島になるかを確認する\n",
    "#②埋めた場合の島の個数を確認\n",
    "\n"
   ]
  }
 ],
 "metadata": {
  "kernelspec": {
   "display_name": "Python 3",
   "language": "python",
   "name": "python3"
  },
  "language_info": {
   "codemirror_mode": {
    "name": "ipython",
    "version": 3
   },
   "file_extension": ".py",
   "mimetype": "text/x-python",
   "name": "python",
   "nbconvert_exporter": "python",
   "pygments_lexer": "ipython3",
   "version": "3.8.5"
  },
  "varInspector": {
   "cols": {
    "lenName": 16,
    "lenType": 16,
    "lenVar": 40
   },
   "kernels_config": {
    "python": {
     "delete_cmd_postfix": "",
     "delete_cmd_prefix": "del ",
     "library": "var_list.py",
     "varRefreshCmd": "print(var_dic_list())"
    },
    "r": {
     "delete_cmd_postfix": ") ",
     "delete_cmd_prefix": "rm(",
     "library": "var_list.r",
     "varRefreshCmd": "cat(var_dic_list()) "
    }
   },
   "types_to_exclude": [
    "module",
    "function",
    "builtin_function_or_method",
    "instance",
    "_Feature"
   ],
   "window_display": true
  }
 },
 "nbformat": 4,
 "nbformat_minor": 4
}
