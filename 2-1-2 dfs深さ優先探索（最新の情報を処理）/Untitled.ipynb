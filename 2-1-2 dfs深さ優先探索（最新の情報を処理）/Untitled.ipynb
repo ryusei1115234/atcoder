{
 "cells": [
  {
   "cell_type": "code",
   "execution_count": null,
   "id": "e6a8bda7",
   "metadata": {},
   "outputs": [],
   "source": [
    "from collections import deque\n",
    "\n",
    "H,W =map(int,input().split())\n",
    "plus_or_minus =[list(input()) for i in range(H)]\n",
    "visited=[[0]*W for i in range(H)]\n",
    "visited[0][0] =1\n",
    "stack = deque([[0, 0,0,0,0]])\n",
    "\n",
    "def move(plus_or_minus,visited,stack):\n",
    "  point_T_array ,point_A_array =[],[]\n",
    "  while len(stack)>0:\n",
    "    h,w,point_T,point_A =stack.pop()\n",
    "    if  h ==H-1 and w ==W-1:\n",
    "      point_T_array.append(point_T)\n",
    "      point_A_array.append(point_A)\n",
    "    if  h ==H-1 and w ==W-1 and len(stack)==0:\n",
    "      return point_T_array,point_A_array\n",
    "    else:\n",
    "      flag =True\n",
    "      for j,k in ([1,0],[0,1]):\n",
    "        pre_point_T =point_T\n",
    "        pre_point_A =point_A\n",
    "        new_h =h+j\n",
    "        new_w =w+k\n",
    "        if new_h>=H or new_w>=W:\n",
    "          continue\n",
    "        else:\n",
    "          if plus_or_minus[new_h][new_w] ==\"+\":\n",
    "            if (new_h+new_w) %2 !=0:\n",
    "              pre_point_T +=1\n",
    "              print(\"A\")\n",
    "            else:\n",
    "              pre_point_A +=1\n",
    "              print(\"B\")\n",
    "          else:\n",
    "            if (new_h+new_w) %2 !=0:\n",
    "              pre_point_T -=1\n",
    "              print(\"C\")\n",
    "            else:\n",
    "              pre_point_A -=1\n",
    "              print(\"D\")\n",
    "       \n",
    "          if cnt ==0 and flag==True:\n",
    "            cnt =1\n",
    "            flag =False\n",
    "          if cnt !=0 and flag==True:\n",
    "            cnt =0\n",
    "            flag =False\n",
    "          stack.append([new_h, new_w,pre_point_T,pre_point_A])\n",
    "          print(stack,cnt)\n",
    "print(move(plus_or_minus,visited,stack))   \n",
    "  \n",
    "  "
   ]
  }
 ],
 "metadata": {
  "kernelspec": {
   "display_name": "Python 3",
   "language": "python",
   "name": "python3"
  },
  "language_info": {
   "codemirror_mode": {
    "name": "ipython",
    "version": 3
   },
   "file_extension": ".py",
   "mimetype": "text/x-python",
   "name": "python",
   "nbconvert_exporter": "python",
   "pygments_lexer": "ipython3",
   "version": "3.8.8"
  }
 },
 "nbformat": 4,
 "nbformat_minor": 5
}
