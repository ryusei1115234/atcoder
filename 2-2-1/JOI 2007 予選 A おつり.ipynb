{
 "cells": [
  {
   "cell_type": "code",
   "execution_count": 6,
   "metadata": {},
   "outputs": [
    {
     "name": "stdout",
     "output_type": "stream",
     "text": [
      "380\n",
      "4\n"
     ]
    }
   ],
   "source": [
    "data =int(input())\n",
    "oturi =1000-data\n",
    "i_500 =0\n",
    "i_100 =0\n",
    "i_50 =0\n",
    "i_10 =0\n",
    "i_5  =0\n",
    "ans =0\n",
    "while int(oturi/500)>0:\n",
    "    oturi -=500\n",
    "    i_500 +=1\n",
    "ans +=i_500\n",
    "\n",
    "while int(oturi/100)>0:\n",
    "    oturi -=100\n",
    "    i_100 +=1\n",
    "ans +=i_100\n",
    "\n",
    "while int(oturi/50)>0:\n",
    "    oturi -=50\n",
    "    i_50 +=1\n",
    "ans +=i_50\n",
    "\n",
    "while int(oturi/10)>0:\n",
    "    oturi -=10\n",
    "    i_10 +=1\n",
    "ans +=i_10\n",
    "\n",
    "while int(oturi/5)>0:\n",
    "    oturi -=5\n",
    "    i_5 +=1\n",
    "ans +=i_5\n",
    "ans +=oturi\n",
    "print(ans)"
   ]
  }
 ],
 "metadata": {
  "kernelspec": {
   "display_name": "Python 3",
   "language": "python",
   "name": "python3"
  },
  "language_info": {
   "codemirror_mode": {
    "name": "ipython",
    "version": 3
   },
   "file_extension": ".py",
   "mimetype": "text/x-python",
   "name": "python",
   "nbconvert_exporter": "python",
   "pygments_lexer": "ipython3",
   "version": "3.8.5"
  },
  "varInspector": {
   "cols": {
    "lenName": 16,
    "lenType": 16,
    "lenVar": 40
   },
   "kernels_config": {
    "python": {
     "delete_cmd_postfix": "",
     "delete_cmd_prefix": "del ",
     "library": "var_list.py",
     "varRefreshCmd": "print(var_dic_list())"
    },
    "r": {
     "delete_cmd_postfix": ") ",
     "delete_cmd_prefix": "rm(",
     "library": "var_list.r",
     "varRefreshCmd": "cat(var_dic_list()) "
    }
   },
   "types_to_exclude": [
    "module",
    "function",
    "builtin_function_or_method",
    "instance",
    "_Feature"
   ],
   "window_display": true
  }
 },
 "nbformat": 4,
 "nbformat_minor": 4
}
